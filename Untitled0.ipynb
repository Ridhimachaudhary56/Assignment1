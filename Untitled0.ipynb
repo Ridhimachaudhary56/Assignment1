{
  "nbformat": 4,
  "nbformat_minor": 0,
  "metadata": {
    "colab": {
      "provenance": []
    },
    "kernelspec": {
      "name": "python3",
      "display_name": "Python 3"
    },
    "language_info": {
      "name": "python"
    }
  },
  "cells": [
    {
      "cell_type": "markdown",
      "source": [
        "[link text](https://)"
      ],
      "metadata": {
        "id": "lNJ1s4AEMf4W"
      }
    },
    {
      "cell_type": "markdown",
      "source": [
        "## **Python Basics Questions**\n",
        "Ans1:- Python is a programming language created by Guido van Rossum in the 1980s. Python is commonly used for developing a websites and software,data analysis,and data visualisation.\n",
        "python has been adopted by many non-programmers it is easy to learn language\n",
        "\n",
        "Ans2:-A python interpreter is a computer program that converts each high level program statement into machine code.\n",
        "\n",
        "Ans3:-Keywords are :- False, true, help ,import, print,elif,else,return,break,del,continue,finally\n",
        "\n",
        "Ans4:-No keywords cannot be used as variable names. Programmers generally choose names for their variables that are meaningful human readers of the program to remember what the variable is used for.\n",
        "\n",
        "Ans5:- It refer to the ability of an object to be changed after it is created. an object is considered mutable if its state or value can be modified after it is created.this means that you can alter its internal data or attributes without creating a new object.\n",
        "\n",
        "Ans6:-The main difference between tuples and lists is that tuples are immutable meaning their contents cannot be changed after creation, while lists are mutable and can be modified. Additionally, tuples are more memory-efficient compared to lists. Tuples can't be changed after they're created, but lists can be modified.\n",
        "\n",
        "Ans7:-(==) is comparison, if you wanna compare x and 2, you do if (x == 2), either true or false. \"=\" is used to assign the value. Example: x = 2, then value of x is 2. \"==\" is to show equality between values, Example x == y, here the value of y equal to x.\n",
        "\n",
        "Ans8:-In Python, logical operators are used to combine multiple conditions together and evaluate them as a single boolean expression. There are three types of logical operators in Python: and, or and not. The and operator returns true if both conditions it is evaluating are true, otherwise it returns false.\n",
        "\n",
        "Ans9:-Type Casting is the method to convert the Python variable datatype into a certain data type in order to perform the required operation by users. In this article, we will see the various techniques for typecasting. There can be two types of type casting in python: python implicit type conversion.\n",
        "\n",
        "Ans10:-Explicit type conversion in programming is done manually by the programmer, while implicit conversion is handled automatically by the compiler. In more detail explicit type conversion also known as type casting is when the programmer intentionally changes the data type of a value.\n",
        "\n",
        "Ans11:-A conditional statement as the name suggests itself is used to handle conditions in your program these statements guide the program while making decisions based on the conditions encountered by the program.\n",
        "\n",
        "Ans12:-The (elif) keyword in Python stands for (else if). It can be used in conditional statements to check for multiple conditions. For example, if the first condition is false, it moves on to the next “elif” statement to check if that condition is true.\n",
        "\n",
        "Ans13:-Both for loop and while loop is used to execute the statements repeatedly while the program runs. The major difference between for loop and while loop is that for loop is used when the number of iterations is known, whereas execution is done in a while loop until the statement in the program is proved wrong.\n",
        "\n",
        "Ans14:-In contrast to a 'for' loop, which is generally used when the number of iterations is known beforehand, a 'while' loop is ideal for situations where the number of iterations is not predetermined and depends on some dynamic condition.\n",
        "\n",
        "\n",
        "\n",
        "# **Practical Question**\n",
        "\n",
        "\n",
        "\n",
        "\n"
      ],
      "metadata": {
        "id": "_jJRuHcqMkuO"
      }
    },
    {
      "cell_type": "code",
      "source": [
        "print(\"Hello,World!\")"
      ],
      "metadata": {
        "colab": {
          "base_uri": "https://localhost:8080/"
        },
        "id": "gpDR2JkVgPzs",
        "outputId": "7bb95771-e3fe-4c73-d7a7-d2e073cde04a"
      },
      "execution_count": 2,
      "outputs": [
        {
          "output_type": "stream",
          "name": "stdout",
          "text": [
            "Hello,World!\n"
          ]
        }
      ]
    },
    {
      "cell_type": "code",
      "source": [
        "name = \"Ridhima\"\n",
        "age = 21\n",
        "print(\"My name is\",name)\n",
        "print(\"I am\",age,\"years old\")"
      ],
      "metadata": {
        "colab": {
          "base_uri": "https://localhost:8080/"
        },
        "id": "nznNJ6KOhega",
        "outputId": "66fd7e2d-b9c6-47d7-8628-ede8825aa54e"
      },
      "execution_count": 3,
      "outputs": [
        {
          "output_type": "stream",
          "name": "stdout",
          "text": [
            "My name is Ridhima\n",
            "I am 21 years old\n"
          ]
        }
      ]
    },
    {
      "cell_type": "code",
      "source": [
        "import keyword\n",
        "print(\"pre-defined keywords in python:\")\n",
        "for kw in keyword.kwlist:\n",
        "  print(kw)"
      ],
      "metadata": {
        "colab": {
          "base_uri": "https://localhost:8080/"
        },
        "id": "XTS8KgPMjL-P",
        "outputId": "353758f8-a16f-4ac2-8cae-066fc9170037"
      },
      "execution_count": 5,
      "outputs": [
        {
          "output_type": "stream",
          "name": "stdout",
          "text": [
            "pre-defined keywords in python:\n",
            "False\n",
            "None\n",
            "True\n",
            "and\n",
            "as\n",
            "assert\n",
            "async\n",
            "await\n",
            "break\n",
            "class\n",
            "continue\n",
            "def\n",
            "del\n",
            "elif\n",
            "else\n",
            "except\n",
            "finally\n",
            "for\n",
            "from\n",
            "global\n",
            "if\n",
            "import\n",
            "in\n",
            "is\n",
            "lambda\n",
            "nonlocal\n",
            "not\n",
            "or\n",
            "pass\n",
            "raise\n",
            "return\n",
            "try\n",
            "while\n",
            "with\n",
            "yield\n"
          ]
        }
      ]
    },
    {
      "cell_type": "code",
      "source": [
        "import keyword\n",
        "word = input(\"Enter a word to check if it's a Python keyword: \")\n",
        "if keyword.iskeyword(word):\n",
        "    print(f\"'{word}' is a Python keyword.\")\n",
        "else:\n",
        "    print(f\"'{word}' is NOT a Python keyword.\")\n"
      ],
      "metadata": {
        "colab": {
          "base_uri": "https://localhost:8080/"
        },
        "id": "3z67Yfi-j0Gl",
        "outputId": "3e76e504-6414-41b6-b0fb-0be36478c653"
      },
      "execution_count": 6,
      "outputs": [
        {
          "output_type": "stream",
          "name": "stdout",
          "text": [
            "Enter a word to check if it's a Python keyword: import\n",
            "'import' is a Python keyword.\n"
          ]
        }
      ]
    },
    {
      "cell_type": "code",
      "source": [
        "my_list = [1, 2, 3, 4]\n",
        "print(\"Original list:\", my_list)\n",
        "my_list[1] = 99\n",
        "print(\"Modified list:\", my_list)\n",
        "my_tuple = (1, 2, 3, 4)\n",
        "print(\"\\nOriginal tuple:\", my_tuple)\n",
        "try:\n",
        "    my_tuple[1] = 99\n",
        "except TypeError as e:\n",
        "    print(\"Error when trying to modify the tuple:\", e)\n"
      ],
      "metadata": {
        "colab": {
          "base_uri": "https://localhost:8080/"
        },
        "id": "Vuj81Oo9kVDt",
        "outputId": "088e7e72-6ca5-4fa7-d017-b33d1249544e"
      },
      "execution_count": 7,
      "outputs": [
        {
          "output_type": "stream",
          "name": "stdout",
          "text": [
            "Original list: [1, 2, 3, 4]\n",
            "Modified list: [1, 99, 3, 4]\n",
            "\n",
            "Original tuple: (1, 2, 3, 4)\n",
            "Error when trying to modify the tuple: 'tuple' object does not support item assignment\n"
          ]
        }
      ]
    },
    {
      "cell_type": "code",
      "source": [
        "def modify_arguments(immutable_arg, mutable_arg):\n",
        "    print(\"\\nInside the function:\")\n",
        "    immutable_arg += 10\n",
        "    print(\"Immutable argument after modification:\", immutable_arg)\n",
        "    mutable_arg.append(100)\n",
        "    print(\"Mutable argument after modification:\", mutable_arg)\n",
        "def main():\n",
        "    num = 42\n",
        "    print(\"Immutable argument before function call:\", num)\n",
        "    numbers = [1, 2, 3]\n",
        "    print(\"Mutable argument before function call:\", numbers)\n",
        "    modify_arguments(num, numbers)\n",
        "    print(\"\\nAfter the function call:\")\n",
        "    print(\"Immutable argument:\", num)\n",
        "    print(\"Mutable argument:\", numbers)\n",
        "main()\n"
      ],
      "metadata": {
        "colab": {
          "base_uri": "https://localhost:8080/"
        },
        "id": "JucaC-QqlUUf",
        "outputId": "928dfd68-76fd-4a27-bd88-bea4b4061320"
      },
      "execution_count": 8,
      "outputs": [
        {
          "output_type": "stream",
          "name": "stdout",
          "text": [
            "Immutable argument before function call: 42\n",
            "Mutable argument before function call: [1, 2, 3]\n",
            "\n",
            "Inside the function:\n",
            "Immutable argument after modification: 52\n",
            "Mutable argument after modification: [1, 2, 3, 100]\n",
            "\n",
            "After the function call:\n",
            "Immutable argument: 42\n",
            "Mutable argument: [1, 2, 3, 100]\n"
          ]
        }
      ]
    },
    {
      "cell_type": "code",
      "source": [
        "def demonstrate_mutable_immutable(immutable_arg, mutable_arg):\n",
        "    \"\"\"\n",
        "    Function to show the behavior of immutable and mutable arguments.\n",
        "    :param immutable_arg: An immutable object (e.g., integer, string, tuple)\n",
        "    :param mutable_arg: A mutable object (e.g., list, dictionary\n",
        "    \"\"\"\n",
        "    print(\"\\nInside the function:\")\n",
        "    print(f\"Original immutable_arg: {immutable_arg}\")\n",
        "    immutable_arg += 5\n",
        "    print(f\"Immutable_arg after modification attempt: {immutable_arg}\")\n",
        "    print(f\"Original mutable_arg: {mutable_arg}\")\n",
        "    mutable_arg.append(42)\n",
        "    print(f\"Mutable_arg after modification: {mutable_arg}\")\n",
        "def main():\n",
        "    num = 10\n",
        "    print(f\"Immutable argument before function call: {num}\")\n",
        "    numbers = [1, 2, 3]\n",
        "    print(f\"Mutable argument before function call: {numbers}\")\n",
        "    demonstrate_mutable_immutable(num, numbers)\n",
        "    print(\"\\nAfter the function call:\")\n",
        "    print(f\"Immutable argument: {num}\")\n",
        "    print(f\"Mutable argument: {numbers}\")\n",
        "main()\n"
      ],
      "metadata": {
        "colab": {
          "base_uri": "https://localhost:8080/"
        },
        "id": "MJ0sDO7Il2-X",
        "outputId": "5ae08a65-8da4-4b8c-cd84-988aaed67b10"
      },
      "execution_count": 9,
      "outputs": [
        {
          "output_type": "stream",
          "name": "stdout",
          "text": [
            "Immutable argument before function call: 10\n",
            "Mutable argument before function call: [1, 2, 3]\n",
            "\n",
            "Inside the function:\n",
            "Original immutable_arg: 10\n",
            "Immutable_arg after modification attempt: 15\n",
            "Original mutable_arg: [1, 2, 3]\n",
            "Mutable_arg after modification: [1, 2, 3, 42]\n",
            "\n",
            "After the function call:\n",
            "Immutable argument: 10\n",
            "Mutable argument: [1, 2, 3, 42]\n"
          ]
        }
      ]
    },
    {
      "cell_type": "code",
      "source": [
        "def logical_operators_demo():\n",
        "    age = int(input(\"Enter your age: \"))\n",
        "    has_permission = input(\"Do you have permission? (yes/no): \").strip().lower() == \"yes\"\n",
        "    print(\"\\nUsing 'and' operator:\")\n",
        "    if age >= 18 and has_permission:\n",
        "        print(\"You are eligible to access the content.\")\n",
        "    else:\n",
        "        print(\"You are not eligible to access the content.\")\n",
        "    print(\"\\nUsing 'or' operator:\")\n",
        "    if age >= 18 or has_permission:\n",
        "        print(\"You have partial access.\")\n",
        "    else:\n",
        "        print(\"You have no access.\")\n",
        "    print(\"\\nUsing 'not' operator:\")\n",
        "    if not has_permission:\n",
        "        print(\"You need to obtain permission.\")\n",
        "    else:\n",
        "        print(\"You already have permission.\")\n",
        "logical_operators_demo()\n"
      ],
      "metadata": {
        "colab": {
          "base_uri": "https://localhost:8080/"
        },
        "id": "nBt0Iqu5mimd",
        "outputId": "937c5e96-5d5e-488b-9751-00bd48ae042e"
      },
      "execution_count": 11,
      "outputs": [
        {
          "output_type": "stream",
          "name": "stdout",
          "text": [
            "Enter your age: 21\n",
            "Do you have permission? (yes/no): yes\n",
            "\n",
            "Using 'and' operator:\n",
            "You are eligible to access the content.\n",
            "\n",
            "Using 'or' operator:\n",
            "You have partial access.\n",
            "\n",
            "Using 'not' operator:\n",
            "You already have permission.\n"
          ]
        }
      ]
    },
    {
      "cell_type": "code",
      "source": [
        "def convert_input():\n",
        "    user_input = input(\"Enter a value: \")\n",
        "    try:\n",
        "        int_value = int(user_input)\n",
        "        print(f\"Integer conversion: {int_value}\")\n",
        "    except ValueError:\n",
        "        print(\"The input cannot be converted to an integer.\")\n",
        "    try:\n",
        "        float_value = float(user_input)\n",
        "        print(f\"Float conversion: {float_value}\")\n",
        "    except ValueError:\n",
        "        print(\"The input cannot be converted to a float.\")\n",
        "    bool_value = bool(user_input.strip())\n",
        "    print(f\"Boolean conversion: {bool_value} (True for non-empty, False for empty)\")\n",
        "convert_input()\n"
      ],
      "metadata": {
        "colab": {
          "base_uri": "https://localhost:8080/"
        },
        "id": "vIZeUIbsnCGH",
        "outputId": "acbd742f-47d6-490a-b095-955df6eb3d3c"
      },
      "execution_count": 12,
      "outputs": [
        {
          "output_type": "stream",
          "name": "stdout",
          "text": [
            "Enter a value: 123\n",
            "Integer conversion: 123\n",
            "Float conversion: 123.0\n",
            "Boolean conversion: True (True for non-empty, False for empty)\n"
          ]
        }
      ]
    },
    {
      "cell_type": "code",
      "source": [
        "def demonstrate_type_casting():\n",
        "    string_list = ['1', '2.5', 'True', '100']\n",
        "    int_list = [int(item) if item.isdigit() else 0 for item in string_list]\n",
        "    float_list = [float(item) if item.replace('.', '', 1).isdigit() else 0.0 for item in string_list]\n",
        "    bool_list = [bool(item) for item in string_list]\n",
        "    print(\"Original list of strings:\", string_list)\n",
        "    print(\"List after type casting to integers:\", int_list)\n",
        "    print(\"List after type casting to floats:\", float_list)\n",
        "    print(\"List after type casting to booleans:\", bool_list)\n",
        "demonstrate_type_casting()\n"
      ],
      "metadata": {
        "colab": {
          "base_uri": "https://localhost:8080/"
        },
        "id": "Zf-GFia1nwkV",
        "outputId": "0992b19e-ee23-4e34-8dbd-58e3e66400a8"
      },
      "execution_count": 13,
      "outputs": [
        {
          "output_type": "stream",
          "name": "stdout",
          "text": [
            "Original list of strings: ['1', '2.5', 'True', '100']\n",
            "List after type casting to integers: [1, 0, 0, 100]\n",
            "List after type casting to floats: [1.0, 2.5, 0.0, 100.0]\n",
            "List after type casting to booleans: [True, True, True, True]\n"
          ]
        }
      ]
    },
    {
      "cell_type": "code",
      "source": [
        "def check_number():\n",
        "    num = float(input(\"Enter a number: \"))\n",
        "    if num > 0:\n",
        "        print(\"The number is positive.\")\n",
        "    elif num < 0:\n",
        "        print(\"The number is negative.\")\n",
        "    else:\n",
        "        print(\"The number is zero.\")\n",
        "check_number()\n"
      ],
      "metadata": {
        "colab": {
          "base_uri": "https://localhost:8080/"
        },
        "id": "TFim3wWDodf_",
        "outputId": "38efb12d-7799-47f4-c668-5d96f0769168"
      },
      "execution_count": 14,
      "outputs": [
        {
          "output_type": "stream",
          "name": "stdout",
          "text": [
            "Enter a number: 123\n",
            "The number is positive.\n"
          ]
        }
      ]
    },
    {
      "cell_type": "code",
      "source": [
        "for i in range(1, 11):\n",
        "    print(i)\n"
      ],
      "metadata": {
        "colab": {
          "base_uri": "https://localhost:8080/"
        },
        "id": "4MndIjiQoxxS",
        "outputId": "3f71f67a-466c-4ffd-9375-978005336207"
      },
      "execution_count": 16,
      "outputs": [
        {
          "output_type": "stream",
          "name": "stdout",
          "text": [
            "1\n",
            "2\n",
            "3\n",
            "4\n",
            "5\n",
            "6\n",
            "7\n",
            "8\n",
            "9\n",
            "10\n"
          ]
        }
      ]
    },
    {
      "cell_type": "code",
      "source": [
        "sum_even_numbers = 0\n",
        "for i in range(1, 51):\n",
        "    if i % 2 == 0:\n",
        "        sum_even_numbers += i\n",
        "print(\"Sum of all even numbers between 1 and 50:\", sum_even_numbers)\n"
      ],
      "metadata": {
        "colab": {
          "base_uri": "https://localhost:8080/"
        },
        "id": "tWN6jJh3pWJO",
        "outputId": "f8f6000b-2402-4520-d6b7-7ae2ceb408a1"
      },
      "execution_count": 17,
      "outputs": [
        {
          "output_type": "stream",
          "name": "stdout",
          "text": [
            "Sum of all even numbers between 1 and 50: 650\n"
          ]
        }
      ]
    },
    {
      "cell_type": "code",
      "source": [
        "def reverse_string(input_string):\n",
        "    reversed_string = \"\"\n",
        "    index = len(input_string) - 1\n",
        "    while index >= 0:\n",
        "        reversed_string += input_string[index]\n",
        "        index -= 1\n",
        "\n",
        "    return reversed_string\n",
        "input_string = \"Hello, World!\"\n",
        "print(\"Original String:\", input_string)\n",
        "print(\"Reversed String:\", reverse_string(input_string))\n"
      ],
      "metadata": {
        "colab": {
          "base_uri": "https://localhost:8080/"
        },
        "id": "wPc3yixhpr9I",
        "outputId": "f654d8c3-dcc2-41dd-d8f8-115e70e4a045"
      },
      "execution_count": 18,
      "outputs": [
        {
          "output_type": "stream",
          "name": "stdout",
          "text": [
            "Original String: Hello, World!\n",
            "Reversed String: !dlroW ,olleH\n"
          ]
        }
      ]
    },
    {
      "cell_type": "code",
      "source": [
        "def calculate_factorial(number):\n",
        "    factorial = 1\n",
        "    while number > 1:\n",
        "        factorial *= number\n",
        "        number -= 1\n",
        "    return factorial\n",
        "user_input = int(input(\"Enter a number to calculate its factorial: \"))\n",
        "if user_input < 0:\n",
        "    print(\"Factorial is not defined for negative numbers.\")\n",
        "else:\n",
        "    result = calculate_factorial(user_input)\n",
        "    print(f\"The factorial of {user_input} is {result}.\")\n"
      ],
      "metadata": {
        "colab": {
          "base_uri": "https://localhost:8080/"
        },
        "id": "Ckq9jsDaqCNI",
        "outputId": "60c0a80f-f134-4a44-fa1b-ca69a485e73b"
      },
      "execution_count": 19,
      "outputs": [
        {
          "output_type": "stream",
          "name": "stdout",
          "text": [
            "Enter a number to calculate its factorial: 56\n",
            "The factorial of 56 is 710998587804863451854045647463724949736497978881168458687447040000000000000.\n"
          ]
        }
      ]
    }
  ]
}